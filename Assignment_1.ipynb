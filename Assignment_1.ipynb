{
 "cells": [
  {
   "cell_type": "code",
   "execution_count": 13,
   "id": "9e00214d",
   "metadata": {},
   "outputs": [
    {
     "name": "stdout",
     "output_type": "stream",
     "text": [
      "25 random numbers from a standard normal distribution:\n",
      "[ 0  7 15 13  7  4 19 20 23  3 10 14 24 14 14 17  2  9  4 23  2  2  8  8\n",
      "  2]\n"
     ]
    }
   ],
   "source": [
    "#Q!)Use numpy to generate array of 25 random numbers sampled from a standard normal distribution?\n",
    "import numpy as np\n",
    "rand_num = np.random.randint(0,25,25)\n",
    "print(\"25 random numbers from a standard normal distribution:\")\n",
    "print(rand_num)\n"
   ]
  },
  {
   "cell_type": "code",
   "execution_count": null,
   "id": "941fdad5",
   "metadata": {},
   "outputs": [],
   "source": []
  }
 ],
 "metadata": {
  "kernelspec": {
   "display_name": "Python 3",
   "language": "python",
   "name": "python3"
  },
  "language_info": {
   "codemirror_mode": {
    "name": "ipython",
    "version": 3
   },
   "file_extension": ".py",
   "mimetype": "text/x-python",
   "name": "python",
   "nbconvert_exporter": "python",
   "pygments_lexer": "ipython3",
   "version": "3.8.8"
  }
 },
 "nbformat": 4,
 "nbformat_minor": 5
}
